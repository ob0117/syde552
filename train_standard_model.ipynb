{
 "cells": [
  {
   "cell_type": "code",
   "execution_count": 1,
   "id": "72e257cb",
   "metadata": {},
   "outputs": [],
   "source": [
    "import torch\n",
    "import torch.nn as nn\n",
    "from model import TinyTransformer\n",
    "from dataset import get_batch_split, vocab_size, stoi, decode\n",
    "import math"
   ]
  },
  {
   "cell_type": "code",
   "execution_count": 2,
   "id": "3a6f72c0",
   "metadata": {},
   "outputs": [
    {
     "name": "stdout",
     "output_type": "stream",
     "text": [
      "Using device: mps\n"
     ]
    }
   ],
   "source": [
    "device = (\n",
    "    \"mps\" if torch.backends.mps.is_available()\n",
    "    else \"cuda\" if torch.cuda.is_available()\n",
    "    else \"cpu\"\n",
    ")\n",
    "print(f\"Using device: {device}\")"
   ]
  },
  {
   "cell_type": "code",
   "execution_count": 3,
   "id": "66820a4e",
   "metadata": {},
   "outputs": [
    {
     "name": "stdout",
     "output_type": "stream",
     "text": [
      "Step 0: train loss 3.8977, val loss 3.9050\n",
      "Step 500: train loss 2.0654, val loss 2.1082\n",
      "Step 1000: train loss 1.7457, val loss 1.8718\n",
      "Step 1500: train loss 1.5881, val loss 1.7663\n",
      "Step 2000: train loss 1.4858, val loss 1.6738\n",
      "Step 2500: train loss 1.4286, val loss 1.6302\n",
      "Step 2999: train loss 1.3857, val loss 1.6079\n",
      "Model saved to tiny_shakespeare_model.pth\n"
     ]
    }
   ],
   "source": [
    "model = TinyTransformer(vocab_size, n_embd=128, block_size=128, n_heads=4, n_layers=4).to(device)\n",
    "optimizer = torch.optim.AdamW(model.parameters(), lr=3e-4)\n",
    "loss_fn = nn.CrossEntropyLoss()\n",
    "\n",
    "batch_size = 64\n",
    "steps = 3000\n",
    "eval_interval = 500\n",
    "eval_steps = 50\n",
    "\n",
    "@torch.no_grad()\n",
    "def estimate_loss():\n",
    "    model.eval()\n",
    "    out = {}\n",
    "    for split in ['train', 'val']:\n",
    "        losses = torch.zeros(eval_steps)\n",
    "        for k in range(eval_steps):\n",
    "            x, y = get_batch_split(split, block_size=128, batch_size=batch_size, device=device)\n",
    "            logits = model(x)\n",
    "            B, T, C = logits.shape\n",
    "            loss = loss_fn(logits.view(B*T, C), y.view(B*T))\n",
    "            losses[k] = loss.item()\n",
    "        out[split] = losses.mean()\n",
    "    model.train()\n",
    "    return out\n",
    "\n",
    "for step in range(steps):\n",
    "    x, y = get_batch_split('train', block_size=128, batch_size=batch_size, device=device)\n",
    "\n",
    "    logits = model(x)\n",
    "    B, T, C = logits.shape\n",
    "    loss = loss_fn(logits.view(B*T, C), y.view(B*T))\n",
    "\n",
    "    optimizer.zero_grad()\n",
    "    loss.backward()\n",
    "    torch.nn.utils.clip_grad_norm_(model.parameters(), 1.0) \n",
    "    optimizer.step()\n",
    "    \n",
    "    if step % eval_interval == 0 or step == steps - 1:\n",
    "        losses = estimate_loss()\n",
    "        print(f\"Step {step}: train loss {losses['train']:.4f}, val loss {losses['val']:.4f}\")\n",
    "\n",
    "torch.save(model.state_dict(), 'tiny_shakespeare_model.pth')\n",
    "print(\"Model saved to tiny_shakespeare_model.pth\")\n"
   ]
  },
  {
   "cell_type": "code",
   "execution_count": 8,
   "id": "020da418",
   "metadata": {},
   "outputs": [
    {
     "name": "stdout",
     "output_type": "stream",
     "text": [
      "ROMEO:\n",
      "Sir, in the state, unto like again, hast\n",
      "With he soldiershood by the business in the oes,\n",
      "His presence their fearful and art, good stop,\n",
      "Still Edward not blood death.\n",
      "\n",
      "HERMIONE:\n",
      "Have denianted the\n"
     ]
    }
   ],
   "source": [
    "def generate(model, start, length=100, temperature=0.8, top_k=40):\n",
    "    model.eval()\n",
    "    with torch.no_grad():\n",
    "        x = torch.tensor([stoi[s] for s in start], dtype=torch.long).unsqueeze(0).to(device)\n",
    "        idx = model.generate(x, max_new_tokens=length, temperature=temperature, top_k=top_k)\n",
    "        return decode(idx[0].tolist())\n",
    "\n",
    "print(generate(model, \"ROM\", length=200))"
   ]
  }
 ],
 "metadata": {
  "kernelspec": {
   "display_name": "Python 3",
   "language": "python",
   "name": "python3"
  },
  "language_info": {
   "codemirror_mode": {
    "name": "ipython",
    "version": 3
   },
   "file_extension": ".py",
   "mimetype": "text/x-python",
   "name": "python",
   "nbconvert_exporter": "python",
   "pygments_lexer": "ipython3",
   "version": "3.11.3"
  }
 },
 "nbformat": 4,
 "nbformat_minor": 5
}
