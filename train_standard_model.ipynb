{
 "cells": [
  {
   "cell_type": "code",
   "execution_count": 1,
   "id": "72e257cb",
   "metadata": {},
   "outputs": [
    {
     "name": "stderr",
     "output_type": "stream",
     "text": [
      "/opt/anaconda3/lib/python3.12/site-packages/torch/utils/_pytree.py:185: FutureWarning: optree is installed but the version is too old to support PyTorch Dynamo in C++ pytree. C++ pytree support is disabled. Please consider upgrading optree using `python3 -m pip install --upgrade 'optree>=0.13.0'`.\n",
      "  warnings.warn(\n"
     ]
    }
   ],
   "source": [
    "import torch\n",
    "import torch.nn as nn\n",
    "from standard_LLM import TinyTransformer\n",
    "from dataset import get_batch_split, vocab_size, stoi, decode"
   ]
  },
  {
   "cell_type": "code",
   "execution_count": 3,
   "id": "3a6f72c0",
   "metadata": {},
   "outputs": [
    {
     "name": "stdout",
     "output_type": "stream",
     "text": [
      "Using device: mps\n"
     ]
    }
   ],
   "source": [
    "device = (\n",
    "    \"mps\" if torch.backends.mps.is_available()\n",
    "    else \"cuda\" if torch.cuda.is_available()\n",
    "    else \"cpu\"\n",
    ")\n",
    "print(f\"Using device: {device}\")"
   ]
  },
  {
   "cell_type": "code",
   "execution_count": 5,
   "id": "66820a4e",
   "metadata": {},
   "outputs": [
    {
     "name": "stdout",
     "output_type": "stream",
     "text": [
      "Step 0: train loss 3.8883, val loss 3.9024\n",
      "Step 500: train loss 2.0917, val loss 2.1292\n",
      "Step 999: train loss 1.8006, val loss 1.9069\n",
      "Model saved to tiny_shakespeare_model.pth\n"
     ]
    }
   ],
   "source": [
    "block_size = 64\n",
    "batch_size = 64\n",
    "n_embd = 128\n",
    "n_heads = 4\n",
    "n_layers = 4\n",
    "\n",
    "steps = 1000\n",
    "eval_interval = 500\n",
    "eval_steps = 50\n",
    "\n",
    "model = TinyTransformer(vocab_size, n_embd=n_embd, block_size=block_size, n_heads=n_heads, n_layers=n_layers).to(device)\n",
    "optimizer = torch.optim.AdamW(model.parameters(), lr=3e-4)\n",
    "loss_fn = nn.CrossEntropyLoss()\n",
    "\n",
    "@torch.no_grad()\n",
    "def estimate_loss():\n",
    "    model.eval()\n",
    "    out = {}\n",
    "    for split in ['train', 'val']:\n",
    "        losses = torch.zeros(eval_steps)\n",
    "        for k in range(eval_steps):\n",
    "            x, y = get_batch_split(split, block_size=block_size, batch_size=batch_size, device=device)\n",
    "            logits = model(x)\n",
    "            B, T, C = logits.shape\n",
    "            loss = loss_fn(logits.view(B*T, C), y.view(B*T))\n",
    "            losses[k] = loss.item()\n",
    "        out[split] = losses.mean()\n",
    "    model.train()\n",
    "    return out\n",
    "\n",
    "for step in range(steps):\n",
    "    x, y = get_batch_split('train', block_size=block_size, batch_size=batch_size, device=device)\n",
    "\n",
    "    logits = model(x)\n",
    "    B, T, C = logits.shape\n",
    "    loss = loss_fn(logits.view(B*T, C), y.view(B*T))\n",
    "\n",
    "    optimizer.zero_grad()\n",
    "    loss.backward()\n",
    "    torch.nn.utils.clip_grad_norm_(model.parameters(), 1.0) \n",
    "    optimizer.step()\n",
    "    \n",
    "    if step % eval_interval == 0 or step == steps - 1:\n",
    "        losses = estimate_loss()\n",
    "        print(f\"Step {step}: train loss {losses['train']:.4f}, val loss {losses['val']:.4f}\")\n",
    "\n",
    "torch.save(model.state_dict(), 'tiny_shakespeare_model.pth')\n",
    "print(\"Model saved to tiny_shakespeare_model.pth\")\n"
   ]
  },
  {
   "cell_type": "code",
   "execution_count": 7,
   "id": "020da418",
   "metadata": {},
   "outputs": [
    {
     "name": "stdout",
     "output_type": "stream",
     "text": [
      "ROMEO:\n",
      "Chomme, pot this I'll dow!\n",
      "\n",
      "MESTERO:\n",
      "Chase have a gantly for vingman forself.\n",
      "\n",
      "VOBRINGSIA:\n",
      "The fort the off there rad ears, and the him prize,\n",
      "That this it fromoutth at buch I may.\n",
      "\n",
      "Sher:\n",
      "Sho I he, y\n"
     ]
    }
   ],
   "source": [
    "def generate(model, start, length=100, temperature=0.8, top_k=40):\n",
    "    model.eval()\n",
    "    with torch.no_grad():\n",
    "        x = torch.tensor([stoi[s] for s in start], dtype=torch.long).unsqueeze(0).to(device)\n",
    "        idx = model.generate(x, max_new_tokens=length, temperature=temperature, top_k=top_k)\n",
    "        return decode(idx[0].tolist())\n",
    "\n",
    "print(generate(model, \"ROMEO:\", length=200))"
   ]
  }
 ],
 "metadata": {
  "kernelspec": {
   "display_name": "Python 3 (ipykernel)",
   "language": "python",
   "name": "python3"
  },
  "language_info": {
   "codemirror_mode": {
    "name": "ipython",
    "version": 3
   },
   "file_extension": ".py",
   "mimetype": "text/x-python",
   "name": "python",
   "nbconvert_exporter": "python",
   "pygments_lexer": "ipython3",
   "version": "3.12.4"
  }
 },
 "nbformat": 4,
 "nbformat_minor": 5
}
