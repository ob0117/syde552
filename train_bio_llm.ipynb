{
 "cells": [
  {
   "cell_type": "code",
   "execution_count": 1,
   "id": "72511248",
   "metadata": {},
   "outputs": [],
   "source": [
    "import matplotlib.pyplot as plt\n",
    "from collections import defaultdict\n",
    "import time\n",
    "\n",
    "import torch\n",
    "import torch.nn as nn\n",
    "\n",
    "from bio_LLM import TinyTransformer\n",
    "\n",
    "from dataset import get_batch_split, vocab_size, stoi, decode"
   ]
  },
  {
   "cell_type": "code",
   "execution_count": 2,
   "id": "acf30ece",
   "metadata": {},
   "outputs": [
    {
     "name": "stdout",
     "output_type": "stream",
     "text": [
      "Using device: mps\n"
     ]
    }
   ],
   "source": [
    "device = (\n",
    "    \"mps\" if torch.backends.mps.is_available()\n",
    "    else \"cuda\" if torch.cuda.is_available()\n",
    "    else \"cpu\"\n",
    ")\n",
    "print(f\"Using device: {device}\")"
   ]
  },
  {
   "cell_type": "code",
   "execution_count": 3,
   "id": "7d958cdc",
   "metadata": {},
   "outputs": [],
   "source": [
    "PRINT_ATTENTION_VALUES = False\n",
    "\n",
    "ATTENTION_STATS = {\n",
    "    \"scores\": defaultdict(list),\n",
    "    \"weights\": defaultdict(list),\n",
    "}\n",
    "\n",
    "def make_attention_hook(layer_idx):\n",
    "    def inspect_attention(module, input, output):\n",
    "        if not PRINT_ATTENTION_VALUES:\n",
    "            return\n",
    "        scores = module._last_attn_scores.detach().cpu()\n",
    "        weights = module._last_attn_weights.detach().cpu()\n",
    "\n",
    "        # Flatten to 1D for histogram\n",
    "        ATTENTION_STATS[\"scores\"][layer_idx].append(scores.view(-1))\n",
    "        ATTENTION_STATS[\"weights\"][layer_idx].append(weights.view(-1))\n",
    "    return inspect_attention"
   ]
  },
  {
   "cell_type": "code",
   "execution_count": 4,
   "id": "032aaf7d",
   "metadata": {
    "scrolled": true
   },
   "outputs": [
    {
     "name": "stdout",
     "output_type": "stream",
     "text": [
      "Step 0: train loss 4.0397, val loss 4.0383\n",
      "Step 500: train loss 2.7140, val loss 2.7362\n",
      "Step 999: train loss 2.6631, val loss 2.6766\n",
      "Training time: 369.25 seconds\n",
      "Model saved to bio_tiny_shakespeare_model.pth\n"
     ]
    }
   ],
   "source": [
    "dot_mode = \"NEURON_DOT\"\n",
    "softmax_mode = \"NEURON_SOFTMAX\"\n",
    "\n",
    "block_size = 32\n",
    "batch_size = 16\n",
    "n_embd = 64\n",
    "n_heads = 4\n",
    "n_layers = 4\n",
    "train_steps = 1000\n",
    "eval_interval = 500\n",
    "eval_steps = 50\n",
    "\n",
    "LIF_model_dt = 1e-1\n",
    "LIF_model_steps = 100\n",
    "wta_inhibition = -0.9\n",
    "wta_excitation = 1.1\n",
    "wta_steps = 20\n",
    "\n",
    "learning_rate = 1e-3\n",
    "\n",
    "model = TinyTransformer(\n",
    "    vocab_size, \n",
    "    n_embd=n_embd,\n",
    "    block_size=block_size, \n",
    "    n_heads=n_heads, \n",
    "    n_layers=n_layers, \n",
    "    dot_mode=dot_mode,\n",
    "    softmax_mode=softmax_mode).to(device)\n",
    "\n",
    "optimizer = torch.optim.AdamW(model.parameters(), lr=learning_rate)\n",
    "loss_fn = nn.CrossEntropyLoss()\n",
    "\n",
    "# for inspecting attention scores & weights during training\n",
    "for i, block in enumerate(model.blocks):\n",
    "    block.attn.register_forward_hook(make_attention_hook(i))\n",
    "\n",
    "@torch.no_grad()\n",
    "def estimate_loss():\n",
    "    model.eval()\n",
    "    out = {}\n",
    "    for split in ['train', 'val']:\n",
    "        losses = torch.zeros(eval_steps)\n",
    "        for k in range(eval_steps):\n",
    "            x, y = get_batch_split(split, block_size=block_size, batch_size=batch_size, device=device)\n",
    "            logits = model(x)\n",
    "            B, T, C = logits.shape\n",
    "            loss = loss_fn(logits.view(B*T, C), y.view(B*T))\n",
    "            losses[k] = loss.item()\n",
    "        out[split] = losses.mean()\n",
    "    model.train()\n",
    "    return out\n",
    "\n",
    "start_time = time.time()\n",
    "for step in range(train_steps):\n",
    "    x, y = get_batch_split('train', block_size=block_size, batch_size=batch_size, device=device)\n",
    "\n",
    "    # Forward pass\n",
    "    logits = model(x)\n",
    "    B, T, C = logits.shape\n",
    "    loss = loss_fn(logits.view(B*T, C), y.view(B*T))\n",
    "\n",
    "    # Backward pass\n",
    "    optimizer.zero_grad()\n",
    "    loss.backward()\n",
    "    torch.nn.utils.clip_grad_norm_(model.parameters(), 1.0)\n",
    "    optimizer.step()\n",
    "    \n",
    "    if step % eval_interval == 0 or step == train_steps - 1:\n",
    "        losses = estimate_loss()\n",
    "        print(f\"Step {step}: train loss {losses['train']:.4f}, val loss {losses['val']:.4f}\")\n",
    "        PRINT_ATTENTION_VALUES = True\n",
    "        x, _ = get_batch_split('val', block_size=block_size, batch_size=1, device=device)\n",
    "        _ = model(x)\n",
    "        PRINT_ATTENTION_VALUES = False\n",
    "\n",
    "end_time = time.time()\n",
    "print(f\"Training time: {end_time - start_time:.2f} seconds\")\n",
    "\n",
    "torch.save(model.state_dict(), 'bio_tiny_shakespeare_model.pth')\n",
    "print(\"Model saved to bio_tiny_shakespeare_model.pth\")"
   ]
  },
  {
   "cell_type": "code",
   "execution_count": 5,
   "id": "064fa653",
   "metadata": {},
   "outputs": [],
   "source": [
    "for stat_type in ['scores', 'weights']:\n",
    "    for layer_idx, values in ATTENTION_STATS[stat_type].items():\n",
    "        data = torch.cat(values).numpy()\n",
    "\n",
    "        plt.figure(figsize=(6, 4))\n",
    "        plt.hist(data, bins=100, density=True)\n",
    "        plt.title(f\"{dot_mode} {softmax_mode} — Transformer block {layer_idx} {stat_type}\")\n",
    "        plt.xlabel(stat_type)\n",
    "        plt.grid(True)\n",
    "        plt.savefig(f\"plots/{dot_mode}_{softmax_mode}/hist_layer{layer_idx}_{stat_type}.png\")\n",
    "        plt.close()"
   ]
  },
  {
   "cell_type": "code",
   "execution_count": 5,
   "id": "398bc7da",
   "metadata": {},
   "outputs": [
    {
     "name": "stdout",
     "output_type": "stream",
     "text": [
      "ROMEOY:\n",
      "Ale at t o shoudel machecebe B!\n",
      "Wod sumat spe. Endeereend monkld hav Meundthere ororule,\n",
      "Thin hadon,\n",
      "CInd rorer thelelirdcit opris avor mand 'ciseng Irsitheve toncog man I piung heandeak henneng\n",
      "yc\n",
      "\n",
      "Generation time: 66.20 seconds\n"
     ]
    }
   ],
   "source": [
    "def generate(model, start, length=100, temperature=0.8, top_k=40):\n",
    "    model.eval()\n",
    "    with torch.no_grad():\n",
    "        x = torch.tensor([stoi[s] for s in start], dtype=torch.long).unsqueeze(0).to(device)\n",
    "        idx = model.generate(x, max_new_tokens=length, temperature=temperature, top_k=top_k)\n",
    "        return decode(idx[0].tolist())\n",
    "\n",
    "gen_start = time.time()\n",
    "output = generate(model, \"ROMEO\", length=200)\n",
    "gen_end = time.time()\n",
    "\n",
    "print(output)\n",
    "print(f\"\\nGeneration time: {gen_end - gen_start:.2f} seconds\")"
   ]
  }
 ],
 "metadata": {
  "kernelspec": {
   "display_name": "Python 3",
   "language": "python",
   "name": "python3"
  },
  "language_info": {
   "codemirror_mode": {
    "name": "ipython",
    "version": 3
   },
   "file_extension": ".py",
   "mimetype": "text/x-python",
   "name": "python",
   "nbconvert_exporter": "python",
   "pygments_lexer": "ipython3",
   "version": "3.11.3"
  }
 },
 "nbformat": 4,
 "nbformat_minor": 5
}
